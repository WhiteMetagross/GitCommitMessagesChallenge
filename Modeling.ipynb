{
 "cells": [
  {
   "cell_type": "markdown",
   "metadata": {},
   "source": [
    "# Modeling: Predicting Developer Roles.\n",
    "\n",
    "This is the modeling notebook. The goal here is to build and evaluate two different models to predict a developer's role based on their commit data. The insights from the EDA notebook will help.\n",
    "\n",
    "Here's the plan:\n",
    "1.  **Setup and Data Prep:** Load the processed data and split it into training and testing sets. It's important to split the data *before* I do any feature transformations to avoid data leakage.\n",
    "2.  **Experiment 1: Baseline Model.** Build a `Logistic Regression` model. For the text data, I will use a simple `TFIDF` vectorizer. This will be the baseline to see how well a standard approach works.\n",
    "3.  **Experiment 2: Improved Model.** For my second model, I will use `XGBoost`, which is generally more powerful. I will also use a more advanced technique for the text data: `Word2Vec`. The hypothesis is that Word2Vec will capture the meaning of commit messages better than TF IDF, leading to a better score.\n",
    "4.  **Evaluation and Comparison:** For both models, I will calculate the **Macro F1 score** (the main metric for this project), check the precision and recall for each class, and visualize a confusion matrix to see where the model is getting confused. I will compare the two models to see if my improved approach actually worked better."
   ]
  },
  {
   "cell_type": "markdown",
   "metadata": {},
   "source": [
    "### 1. Setup and Imports:\n",
    "\n",
    " Get all the libraries needed for this task. This includes tools for data processing, feature extraction, building models, and evaluating them."
   ]
  },
  {
   "cell_type": "code",
   "execution_count": 3,
   "metadata": {},
   "outputs": [],
   "source": [
    "import pandas as pd\n",
    "import numpy as np\n",
    "import matplotlib.pyplot as plt\n",
    "import seaborn as sns\n",
    "import ast\n",
    "import warnings\n",
    "\n",
    "from sklearn.model_selection import train_test_split\n",
    "from sklearn.preprocessing import StandardScaler, OneHotEncoder, MultiLabelBinarizer\n",
    "from sklearn.compose import ColumnTransformer\n",
    "from sklearn.pipeline import Pipeline\n",
    "from sklearn.feature_extraction.text import TfidfVectorizer\n",
    "from sklearn.linear_model import LogisticRegression\n",
    "\n",
    "import xgboost as xgb\n",
    "\n",
    "from gensim.models import Word2Vec\n",
    "\n",
    "from sklearn.metrics import classification_report, confusion_matrix, f1_score\n",
    "\n",
    "warnings.filterwarnings('ignore')\n",
    "sns.set_style('whitegrid')"
   ]
  },
  {
   "cell_type": "markdown",
   "metadata": {},
   "source": [
    "### 2. Load and Prepare Data:\n",
    "\n",
    "Loading the `processed_dataset.csv` file and then splitting it into a training set (80%) and a testing set (20%). Using `stratify` to make sure the class imbalance I found in the EDA is preserved in both the training and testing sets. This ensures my evaluation is fair."
   ]
  },
  {
   "cell_type": "code",
   "execution_count": 4,
   "metadata": {},
   "outputs": [
    {
     "name": "stdout",
     "output_type": "stream",
     "text": [
      "Training set shape: (1200, 12)\n",
      "Test set shape: (300, 12)\n"
     ]
    }
   ],
   "source": [
    "def loadData(filePath):\n",
    "    data = pd.read_csv(filePath)\n",
    "    data['processedFileExtensions'] = data['processedFileExtensions'].apply(ast.literal_eval)\n",
    "    data['cleanedMessage'] = data['cleanedMessage'].fillna('')\n",
    "    return data\n",
    "\n",
    "filePath = 'processed_dataset.csv'\n",
    "processedData = loadData(filePath)\n",
    "\n",
    "X = processedData.drop('role', axis=1)\n",
    "y = processedData['role']\n",
    "\n",
    "X_train, X_test, y_train, y_test = train_test_split(\n",
    "    X, y, test_size=0.2, random_state=17, stratify=y\n",
    ")\n",
    "\n",
    "print(f\"Training set shape: {X_train.shape}\")\n",
    "print(f\"Test set shape: {X_test.shape}\")"
   ]
  },
  {
   "cell_type": "markdown",
   "metadata": {},
   "source": [
    "### 3. Experiment 1: Baseline (Logistic Regression with TFIDF):\n",
    "\n",
    "Create a full preprocessing and modeling pipeline. This is great because it bundles all my steps together, preventing data leakage and making the whole process cleaner.\n",
    "\n",
    "My pipeline will do the following:\n",
    "- **Scale** the numerical features.\n",
    "- **One hot encode** the categorical features.\n",
    "- **Binarize** the file extension lists.\n",
    "- **Vectorize** the commit message text using TFIDF.\n",
    "- Train a **Logistic Regression** classifier."
   ]
  },
  {
   "cell_type": "code",
   "execution_count": 5,
   "metadata": {},
   "outputs": [
    {
     "name": "stdout",
     "output_type": "stream",
     "text": [
      "Baseline Model Evaluation:\n",
      "              precision    recall  f1-score   support\n",
      "\n",
      "     backend       1.00      0.99      0.99        97\n",
      "    frontend       0.97      0.99      0.98        89\n",
      "   fullstack       0.96      0.92      0.94        52\n",
      "          qa       0.98      1.00      0.99        62\n",
      "\n",
      "    accuracy                           0.98       300\n",
      "   macro avg       0.98      0.98      0.98       300\n",
      "weighted avg       0.98      0.98      0.98       300\n",
      "\n",
      "\n",
      "Baseline Macro F1 Score: 0.9764\n"
     ]
    }
   ],
   "source": [
    "class MultiLabelBinarizerTransformer(MultiLabelBinarizer):\n",
    "    def fit(self, X, y=None):\n",
    "        return super(MultiLabelBinarizerTransformer, self).fit(X)\n",
    "\n",
    "    def transform(self, X, y=None):\n",
    "        return super(MultiLabelBinarizerTransformer, self).transform(X)\n",
    "\n",
    "    def fit_transform(self, X, y=None):\n",
    "        return super(MultiLabelBinarizerTransformer, self).fit_transform(X)\n",
    "\n",
    "numericalFeatures = ['numfileschanged', 'linesadded', 'linesdeleted', 'numcommentsadded', 'messageLengthWords', 'netCodeChange', 'linesAddedPerFile', 'hourOfDay']\n",
    "categoricalFeatures = ['committype', 'dayOfWeek']\n",
    "textFeature = 'cleanedMessage'\n",
    "extensionFeature = 'processedFileExtensions'\n",
    "\n",
    "preprocessorForBaseline = ColumnTransformer(\n",
    "    transformers=[\n",
    "        ('num', StandardScaler(), numericalFeatures),\n",
    "        ('cat', OneHotEncoder(handle_unknown='ignore'), categoricalFeatures),\n",
    "        ('text', TfidfVectorizer(max_features=500), textFeature)\n",
    "    ],\n",
    "    remainder='drop'\n",
    ")\n",
    "\n",
    "baselinePipeline = Pipeline([\n",
    "    ('features', preprocessorForBaseline),\n",
    "    ('classifier', LogisticRegression(random_state=17, class_weight='balanced', max_iter=1000))\n",
    "])\n",
    "\n",
    "mlb = MultiLabelBinarizerTransformer()\n",
    "X_train_extensions = mlb.fit_transform(X_train[extensionFeature])\n",
    "X_test_extensions = mlb.transform(X_test[extensionFeature])\n",
    "\n",
    "X_train_transformed = preprocessorForBaseline.fit_transform(X_train)\n",
    "X_test_transformed = preprocessorForBaseline.transform(X_test)\n",
    "\n",
    "from scipy.sparse import hstack\n",
    "X_train_final = hstack([X_train_transformed, X_train_extensions])\n",
    "X_test_final = hstack([X_test_transformed, X_test_extensions])\n",
    "\n",
    "baselineModel = LogisticRegression(random_state=17, class_weight='balanced', max_iter=1000)\n",
    "baselineModel.fit(X_train_final, y_train)\n",
    "\n",
    "y_pred_baseline = baselineModel.predict(X_test_final)\n",
    "\n",
    "print(\"Baseline Model Evaluation:\")\n",
    "print(classification_report(y_test, y_pred_baseline))\n",
    "\n",
    "baselineMacroF1 = f1_score(y_test, y_pred_baseline, average='macro')\n",
    "print(f\"\\nBaseline Macro F1 Score: {baselineMacroF1:.4f}\")"
   ]
  },
  {
   "cell_type": "code",
   "execution_count": 6,
   "metadata": {},
   "outputs": [
    {
     "data": {
      "image/png": "[encoded data removed]",
      "text/plain": [
       "<Figure size 1000x800 with 2 Axes>"
      ]
     },
     "metadata": {},
     "output_type": "display_data"
    }
   ],
   "source": [
    "confMatrixBaseline = confusion_matrix(y_test, y_pred_baseline)\n",
    "plt.figure(figsize=(10, 8))\n",
    "sns.heatmap(confMatrixBaseline, annot=True, fmt='d', cmap='viridis',\n",
    "            xticklabels=baselineModel.classes_, yticklabels=baselineModel.classes_)\n",
    "plt.title('Confusion Matrix for Baseline Model', fontsize=16)\n",
    "plt.xlabel('Predicted Role', fontsize=12)\n",
    "plt.ylabel('Actual Role', fontsize=12)\n",
    "plt.show()"
   ]
  },
  {
   "cell_type": "markdown",
   "metadata": {},
   "source": [
    "#### Baseline Observations:\n",
    "The baseline model did good. The Macro F1 score is high, which tells me that the features I engineered are very predictive. The confusion matrix shows that the model is very good at identifying `qa` roles, but sometimes confuses `frontend`, `backend`, and `fullstack` with each other, which makes sense given the overlap in their work."
   ]
  },
  {
   "cell_type": "markdown",
   "metadata": {},
   "source": [
    "### 4. Experiment 2: Improved Model (XGBoost with Word2Vec):\n",
    "\n",
    "Using the improved model. The main hypothesis is that using `Word2Vec` to represent commit messages will capture their meaning better than TFIDF. I will pair this with an `XGBoost` classifier, a powerful model that's good at finding complex patterns in data.\n",
    "\n",
    "The steps are:\n",
    "1.  Train a Word2Vec model on the commit messages from my **train set**.\n",
    "2.  Create a function that converts each commit message into an average vector using the trained Word2Vec model.\n",
    "3.  Combine these new text vectors with the other numerical and categorical features.\n",
    "4.  Train the XGBoost classifier and evaluate it."
   ]
  },
  {
   "cell_type": "code",
   "execution_count": 9,
   "metadata": {},
   "outputs": [
    {
     "name": "stdout",
     "output_type": "stream",
     "text": [
      "Improved Model Evaluation (XGBoost with Word2Vec):\n",
      "              precision    recall  f1-score   support\n",
      "\n",
      "     backend       0.99      1.00      0.99        97\n",
      "    frontend       0.97      0.99      0.98        89\n",
      "   fullstack       0.98      0.94      0.96        52\n",
      "          qa       1.00      0.98      0.99        62\n",
      "\n",
      "    accuracy                           0.98       300\n",
      "   macro avg       0.98      0.98      0.98       300\n",
      "weighted avg       0.98      0.98      0.98       300\n",
      "\n",
      "\n",
      "Improved Model Macro F1 Score: 0.9813\n"
     ]
    }
   ],
   "source": [
    "sentences = [str(msg).split() for msg in X_train['cleanedMessage']]\n",
    "w2vModel = Word2Vec(sentences, vector_size=100, window=5, min_count=2, workers=4, seed=17)\n",
    "\n",
    "def vectorizeMessage(message, model):\n",
    "    words = str(message).split()\n",
    "    wordVectors = [model.wv[word] for word in words if word in model.wv]\n",
    "    if not wordVectors:\n",
    "        return np.zeros(model.vector_size, dtype=float)\n",
    "    return np.mean(wordVectors, axis=0)\n",
    "\n",
    "X_train_w2v = np.vstack([vectorizeMessage(msg, w2vModel) for msg in X_train['cleanedMessage']])\n",
    "X_test_w2v = np.vstack([vectorizeMessage(msg, w2vModel) for msg in X_test['cleanedMessage']])\n",
    "\n",
    "preprocessorForImproved = ColumnTransformer(\n",
    "    transformers=[\n",
    "        ('num', StandardScaler(), numericalFeatures),\n",
    "        ('cat', OneHotEncoder(handle_unknown='ignore', sparse_output=True), categoricalFeatures)\n",
    "    ],\n",
    "    remainder='drop'\n",
    ")\n",
    "\n",
    "X_train_other_features = preprocessorForImproved.fit_transform(X_train)\n",
    "X_test_other_features = preprocessorForImproved.transform(X_test)\n",
    "\n",
    "from scipy import sparse as sp\n",
    "def to_dense(arr):\n",
    "    if sp.issparse(arr):\n",
    "        return arr.toarray()\n",
    "    return np.asarray(arr)\n",
    "\n",
    "X_train_ext = np.asarray(X_train_extensions) if X_train_extensions is not None else np.empty((len(X_train), 0))\n",
    "X_test_ext  = np.asarray(X_test_extensions)  if X_test_extensions is not None else np.empty((len(X_test), 0))\n",
    "\n",
    "X_train_improved = np.hstack((to_dense(X_train_other_features), X_train_w2v, X_train_ext))\n",
    "X_test_improved  = np.hstack((to_dense(X_test_other_features),  X_test_w2v,  X_test_ext))\n",
    "\n",
    "from sklearn.preprocessing import LabelEncoder\n",
    "le = LabelEncoder()\n",
    "y_train_encoded = le.fit_transform(y_train)\n",
    "y_test_encoded = le.transform(y_test)\n",
    "\n",
    "xgbModel = xgb.XGBClassifier(random_state=17, use_label_encoder=False, eval_metric='mlogloss')\n",
    "xgbModel.fit(X_train_improved, y_train_encoded)\n",
    "\n",
    "y_pred_xgb_encoded = xgbModel.predict(X_test_improved)\n",
    "y_pred_xgb = le.inverse_transform(y_pred_xgb_encoded)\n",
    "\n",
    "print(\"Improved Model Evaluation (XGBoost with Word2Vec):\")\n",
    "print(classification_report(y_test, y_pred_xgb))\n",
    "\n",
    "xgbMacroF1 = f1_score(y_test, y_pred_xgb, average='macro')\n",
    "print(f\"\\nImproved Model Macro F1 Score: {xgbMacroF1:.4f}\")\n"
   ]
  },
  {
   "cell_type": "code",
   "execution_count": 10,
   "metadata": {},
   "outputs": [
    {
     "data": {
      "image/png": "[encoded data removed]",
      "text/plain": [
       "<Figure size 1000x800 with 2 Axes>"
      ]
     },
     "metadata": {},
     "output_type": "display_data"
    }
   ],
   "source": [
    "#The visualization for evaluations.\n",
    "\n",
    "confMatrixXgb = confusion_matrix(y_test, y_pred_xgb)\n",
    "plt.figure(figsize=(10, 8))\n",
    "sns.heatmap(confMatrixXgb, annot=True, fmt='d', cmap='viridis',\n",
    "            xticklabels=le.classes_, yticklabels=le.classes_)\n",
    "plt.title('Confusion Matrix for Improved Model', fontsize=16)\n",
    "plt.xlabel('Predicted Role', fontsize=12)\n",
    "plt.ylabel('Actual Role', fontsize=12)\n",
    "plt.show()"
   ]
  },
  {
   "cell_type": "markdown",
   "metadata": {},
   "source": [
    "### 5. Results and Comparison\n",
    "\n",
    "Now for the final step: comparing the performance of my two models side-by-side to see if my 'improved' model actually performed better."
   ]
  },
  {
   "cell_type": "code",
   "execution_count": 11,
   "metadata": {},
   "outputs": [
    {
     "name": "stdout",
     "output_type": "stream",
     "text": [
      "Model Performance Summary:\n"
     ]
    },
    {
     "data": {
      "application/vnd.microsoft.datawrangler.viewer.v0+json": {
       "columns": [
        {
         "name": "index",
         "rawType": "int64",
         "type": "integer"
        },
        {
         "name": "Model",
         "rawType": "object",
         "type": "string"
        },
        {
         "name": "Macro F1 Score",
         "rawType": "float64",
         "type": "float"
        }
       ],
       "ref": "8f7afe59-dada-496a-9a1b-9d5f8e6cb655",
       "rows": [
        [
         "0",
         "Baseline (Logistic Regression + TF-IDF)",
         "0.9764"
        ],
        [
         "1",
         "Improved (XGBoost + Word2Vec)",
         "0.9813"
        ]
       ],
       "shape": {
        "columns": 2,
        "rows": 2
       }
      },
      "text/html": [
       "<div>\n",
       "<style scoped>\n",
       "    .dataframe tbody tr th:only-of-type {\n",
       "        vertical-align: middle;\n",
       "    }\n",
       "\n",
       "    .dataframe tbody tr th {\n",
       "        vertical-align: top;\n",
       "    }\n",
       "\n",
       "    .dataframe thead th {\n",
       "        text-align: right;\n",
       "    }\n",
       "</style>\n",
       "<table border=\"1\" class=\"dataframe\">\n",
       "  <thead>\n",
       "    <tr style=\"text-align: right;\">\n",
       "      <th></th>\n",
       "      <th>Model</th>\n",
       "      <th>Macro F1 Score</th>\n",
       "    </tr>\n",
       "  </thead>\n",
       "  <tbody>\n",
       "    <tr>\n",
       "      <th>0</th>\n",
       "      <td>Baseline (Logistic Regression + TF-IDF)</td>\n",
       "      <td>0.9764</td>\n",
       "    </tr>\n",
       "    <tr>\n",
       "      <th>1</th>\n",
       "      <td>Improved (XGBoost + Word2Vec)</td>\n",
       "      <td>0.9813</td>\n",
       "    </tr>\n",
       "  </tbody>\n",
       "</table>\n",
       "</div>"
      ],
      "text/plain": [
       "                                     Model  Macro F1 Score\n",
       "0  Baseline (Logistic Regression + TF-IDF)          0.9764\n",
       "1            Improved (XGBoost + Word2Vec)          0.9813"
      ]
     },
     "metadata": {},
     "output_type": "display_data"
    }
   ],
   "source": [
    "resultsSummary = pd.DataFrame({\n",
    "    'Model': ['Baseline (Logistic Regression + TF-IDF)', 'Improved (XGBoost + Word2Vec)'],\n",
    "    'Macro F1 Score': [baselineMacroF1, xgbMacroF1]\n",
    "})\n",
    "\n",
    "print(\"Model Performance Summary:\")\n",
    "display(resultsSummary.round(4))"
   ]
  },
  {
   "cell_type": "markdown",
   "metadata": {},
   "source": [
    "#### Final Observations:\n",
    "The improved model using XGBoost and Word2Vec achieved a higher Macro F1 score than the baseline.\n",
    "\n",
    "Here's what I believe happened:\n",
    "- **Word2Vec's Strength:** Word2Vec was able to capture the semantic meaning of commit messages more effectively. It understands that 'UI' and 'style' are related, whereas TFIDF just treats them as separate tokens. This richer representation of text gave the model more meaningful information to work with.\n",
    "- **XGBoost's Power:** XGBoost is a more complex model that can learn intricate patterns and interactions between features that Logistic Regression might miss.\n",
    "\n",
    "Looking at the confusion matrix, the XGBoost model was slightly better at distinguishing between the often confused `backend` and `fullstack` roles. Both models were nearly perfect at identifying `qa` commits, which makes sense given their very distinct file extensions and vocabulary."
   ]
  }
 ],
 "metadata": {
  "kernelspec": {
   "display_name": "base",
   "language": "python",
   "name": "python3"
  },
  "language_info": {
   "codemirror_mode": {
    "name": "ipython",
    "version": 3
   },
   "file_extension": ".py",
   "mimetype": "text/x-python",
   "name": "python",
   "nbconvert_exporter": "python",
   "pygments_lexer": "ipython3",
   "version": "3.11.11"
  }
 },
 "nbformat": 4,
 "nbformat_minor": 4
}
