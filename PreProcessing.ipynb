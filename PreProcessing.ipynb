{
 "cells": [
  {
   "cell_type": "markdown",
   "metadata": {},
   "source": [
    "# Preprocessing Commit Data for Role Classification.\n",
    "\n",
    "This notebook does the complete preprocessing for the GDSC commit dataset. The goal is to take the raw data from `final_dataset.csv` and transform it into a clean, structured format. \n",
    "\n",
    "Here's what I did:\n",
    "1.  **Load and Inspect:** Load the data and get a look at its structure.\n",
    "2.  **Clean the Data:** Clean the `commitmessage` text by making it lowercase, removing punctuation, and taking out common stop words.\n",
    "3.  **Engineer Features:** Create new, meaningful features from the existing columns. This includes extracting time based data, calculating commit metrics, and cleaning up the file extensions list.\n",
    "4.  **Save the Results:** Save the processed data into a new CSV file, which will be the input for the modeling notebook."
   ]
  },
  {
   "cell_type": "markdown",
   "metadata": {},
   "source": [
    "### 1. Setup and Imports:\n",
    "\n",
    "Import the libraries data manipulation and text processing."
   ]
  },
  {
   "cell_type": "code",
   "execution_count": 2,
   "metadata": {},
   "outputs": [],
   "source": [
    "import pandas as pd\n",
    "import numpy as np\n",
    "import re\n",
    "import nltk\n",
    "from nltk.corpus import stopwords\n",
    "import warnings\n",
    "\n",
    "warnings.filterwarnings('ignore')"
   ]
  },
  {
   "cell_type": "code",
   "execution_count": 3,
   "metadata": {},
   "outputs": [
    {
     "name": "stderr",
     "output_type": "stream",
     "text": [
      "[nltk_data] Downloading package stopwords to\n",
      "[nltk_data]     C:\\Users\\Xeron\\AppData\\Roaming\\nltk_data...\n",
      "[nltk_data]   Unzipping corpora\\stopwords.zip.\n"
     ]
    },
    {
     "data": {
      "text/plain": [
       "True"
      ]
     },
     "execution_count": 3,
     "metadata": {},
     "output_type": "execute_result"
    }
   ],
   "source": [
    "#Download the list of stopwords from NLTK.\n",
    "nltk.download('stopwords')"
   ]
  },
  {
   "cell_type": "markdown",
   "metadata": {},
   "source": [
    "### 2. Load and Inspect Data:\n",
    "\n",
    "Load the dataset from the CSV file and observe at it's contents and structure to understand it."
   ]
  },
  {
   "cell_type": "code",
   "execution_count": 4,
   "metadata": {},
   "outputs": [
    {
     "name": "stdout",
     "output_type": "stream",
     "text": [
      "Dataset Head:\n"
     ]
    },
    {
     "data": {
      "application/vnd.microsoft.datawrangler.viewer.v0+json": {
       "columns": [
        {
         "name": "index",
         "rawType": "int64",
         "type": "integer"
        },
        {
         "name": "index",
         "rawType": "int64",
         "type": "integer"
        },
        {
         "name": "role",
         "rawType": "object",
         "type": "string"
        },
        {
         "name": "committype",
         "rawType": "object",
         "type": "string"
        },
        {
         "name": "fileextensions",
         "rawType": "object",
         "type": "string"
        },
        {
         "name": "numfileschanged",
         "rawType": "int64",
         "type": "integer"
        },
        {
         "name": "linesadded",
         "rawType": "int64",
         "type": "integer"
        },
        {
         "name": "linesdeleted",
         "rawType": "int64",
         "type": "integer"
        },
        {
         "name": "numcommentsadded",
         "rawType": "int64",
         "type": "integer"
        },
        {
         "name": "timeofcommit",
         "rawType": "object",
         "type": "string"
        },
        {
         "name": "commitmessage",
         "rawType": "object",
         "type": "string"
        }
       ],
       "ref": "a244fd61-2f83-42e3-a382-0d4d3470cb2b",
       "rows": [
        [
         "0",
         "0",
         "frontend",
         "feature",
         "[np.str_('js_ts')]",
         "4",
         "312",
         "100",
         "2",
         "Friday 17:00",
         "\"Implement responsive UI component with dropdown and modal functionality, enhancing navigation and theme style across the page, with improved CSS and animation effects\""
        ],
        [
         "1",
         "1",
         "frontend",
         "feature",
         "[np.str_('css')]",
         "4",
         "191",
         "74",
         "2",
         "Friday 20:00",
         "\"Refactor UI components: Implement responsive theme for dropdowns and buttons, update CSS layout for modal and navigation widgets, enhance form styling and animation.\""
        ],
        [
         "2",
         "2",
         "fullstack",
         "feature",
         "[np.str_('html')]",
         "4",
         "275",
         "146",
         "4",
         "Thursday 21:00",
         "\"feat: Implement responsive UI layout with modal and dropdown components, incorporating theme-based styling and animation effects for enhanced user experience.\""
        ],
        [
         "3",
         "3",
         "frontend",
         "refactor",
         "[np.str_('js_ts')]",
         "4",
         "245",
         "164",
         "2",
         "Thursday 18:00",
         "\"Refactored UI components for responsive layout and CSS style consistency across page elements, including modal, dropdown, and navigation widgets, to enhance overall theme and user experience.\""
        ],
        [
         "4",
         "4",
         "fullstack",
         "feature",
         "[np.str_('js_ts'), np.str_('html')]",
         "2",
         "692",
         "378",
         "5",
         "Sunday 20:00",
         "\"feat: Implement responsive UI layout for login page with modal and dropdown components, adding CSS styles and animation for a better user experience. Updated API endpoint to handle authentication and session logic, including backend schema and validation.\""
        ]
       ],
       "shape": {
        "columns": 10,
        "rows": 5
       }
      },
      "text/html": [
       "<div>\n",
       "<style scoped>\n",
       "    .dataframe tbody tr th:only-of-type {\n",
       "        vertical-align: middle;\n",
       "    }\n",
       "\n",
       "    .dataframe tbody tr th {\n",
       "        vertical-align: top;\n",
       "    }\n",
       "\n",
       "    .dataframe thead th {\n",
       "        text-align: right;\n",
       "    }\n",
       "</style>\n",
       "<table border=\"1\" class=\"dataframe\">\n",
       "  <thead>\n",
       "    <tr style=\"text-align: right;\">\n",
       "      <th></th>\n",
       "      <th>index</th>\n",
       "      <th>role</th>\n",
       "      <th>committype</th>\n",
       "      <th>fileextensions</th>\n",
       "      <th>numfileschanged</th>\n",
       "      <th>linesadded</th>\n",
       "      <th>linesdeleted</th>\n",
       "      <th>numcommentsadded</th>\n",
       "      <th>timeofcommit</th>\n",
       "      <th>commitmessage</th>\n",
       "    </tr>\n",
       "  </thead>\n",
       "  <tbody>\n",
       "    <tr>\n",
       "      <th>0</th>\n",
       "      <td>0</td>\n",
       "      <td>frontend</td>\n",
       "      <td>feature</td>\n",
       "      <td>[np.str_('js_ts')]</td>\n",
       "      <td>4</td>\n",
       "      <td>312</td>\n",
       "      <td>100</td>\n",
       "      <td>2</td>\n",
       "      <td>Friday 17:00</td>\n",
       "      <td>\"Implement responsive UI component with dropdo...</td>\n",
       "    </tr>\n",
       "    <tr>\n",
       "      <th>1</th>\n",
       "      <td>1</td>\n",
       "      <td>frontend</td>\n",
       "      <td>feature</td>\n",
       "      <td>[np.str_('css')]</td>\n",
       "      <td>4</td>\n",
       "      <td>191</td>\n",
       "      <td>74</td>\n",
       "      <td>2</td>\n",
       "      <td>Friday 20:00</td>\n",
       "      <td>\"Refactor UI components: Implement responsive ...</td>\n",
       "    </tr>\n",
       "    <tr>\n",
       "      <th>2</th>\n",
       "      <td>2</td>\n",
       "      <td>fullstack</td>\n",
       "      <td>feature</td>\n",
       "      <td>[np.str_('html')]</td>\n",
       "      <td>4</td>\n",
       "      <td>275</td>\n",
       "      <td>146</td>\n",
       "      <td>4</td>\n",
       "      <td>Thursday 21:00</td>\n",
       "      <td>\"feat: Implement responsive UI layout with mod...</td>\n",
       "    </tr>\n",
       "    <tr>\n",
       "      <th>3</th>\n",
       "      <td>3</td>\n",
       "      <td>frontend</td>\n",
       "      <td>refactor</td>\n",
       "      <td>[np.str_('js_ts')]</td>\n",
       "      <td>4</td>\n",
       "      <td>245</td>\n",
       "      <td>164</td>\n",
       "      <td>2</td>\n",
       "      <td>Thursday 18:00</td>\n",
       "      <td>\"Refactored UI components for responsive layou...</td>\n",
       "    </tr>\n",
       "    <tr>\n",
       "      <th>4</th>\n",
       "      <td>4</td>\n",
       "      <td>fullstack</td>\n",
       "      <td>feature</td>\n",
       "      <td>[np.str_('js_ts'), np.str_('html')]</td>\n",
       "      <td>2</td>\n",
       "      <td>692</td>\n",
       "      <td>378</td>\n",
       "      <td>5</td>\n",
       "      <td>Sunday 20:00</td>\n",
       "      <td>\"feat: Implement responsive UI layout for logi...</td>\n",
       "    </tr>\n",
       "  </tbody>\n",
       "</table>\n",
       "</div>"
      ],
      "text/plain": [
       "   index       role committype                       fileextensions  \\\n",
       "0      0   frontend    feature                   [np.str_('js_ts')]   \n",
       "1      1   frontend    feature                     [np.str_('css')]   \n",
       "2      2  fullstack    feature                    [np.str_('html')]   \n",
       "3      3   frontend   refactor                   [np.str_('js_ts')]   \n",
       "4      4  fullstack    feature  [np.str_('js_ts'), np.str_('html')]   \n",
       "\n",
       "   numfileschanged  linesadded  linesdeleted  numcommentsadded  \\\n",
       "0                4         312           100                 2   \n",
       "1                4         191            74                 2   \n",
       "2                4         275           146                 4   \n",
       "3                4         245           164                 2   \n",
       "4                2         692           378                 5   \n",
       "\n",
       "     timeofcommit                                      commitmessage  \n",
       "0    Friday 17:00  \"Implement responsive UI component with dropdo...  \n",
       "1    Friday 20:00  \"Refactor UI components: Implement responsive ...  \n",
       "2  Thursday 21:00  \"feat: Implement responsive UI layout with mod...  \n",
       "3  Thursday 18:00  \"Refactored UI components for responsive layou...  \n",
       "4    Sunday 20:00  \"feat: Implement responsive UI layout for logi...  "
      ]
     },
     "metadata": {},
     "output_type": "display_data"
    },
    {
     "name": "stdout",
     "output_type": "stream",
     "text": [
      "\n",
      "Dataset Info:\n",
      "<class 'pandas.core.frame.DataFrame'>\n",
      "RangeIndex: 1500 entries, 0 to 1499\n",
      "Data columns (total 10 columns):\n",
      " #   Column            Non-Null Count  Dtype \n",
      "---  ------            --------------  ----- \n",
      " 0   index             1500 non-null   int64 \n",
      " 1   role              1500 non-null   object\n",
      " 2   committype        1500 non-null   object\n",
      " 3   fileextensions    1500 non-null   object\n",
      " 4   numfileschanged   1500 non-null   int64 \n",
      " 5   linesadded        1500 non-null   int64 \n",
      " 6   linesdeleted      1500 non-null   int64 \n",
      " 7   numcommentsadded  1500 non-null   int64 \n",
      " 8   timeofcommit      1500 non-null   object\n",
      " 9   commitmessage     1500 non-null   object\n",
      "dtypes: int64(5), object(5)\n",
      "memory usage: 117.3+ KB\n"
     ]
    }
   ],
   "source": [
    "def loadData(filePath):\n",
    "    return pd.read_csv(filePath)\n",
    "\n",
    "filePath = 'final_dataset.csv'\n",
    "commitData = loadData(filePath)\n",
    "\n",
    "print(\"Dataset Head:\")\n",
    "display(commitData.head())\n",
    "\n",
    "print(\"\\nDataset Info:\")\n",
    "commitData.info()"
   ]
  },
  {
   "cell_type": "markdown",
   "metadata": {},
   "source": [
    "### 3. Data Cleaning:\n",
    "\n",
    "The `commitmessage` column is raw text. To make it useful for a model, I need to clean it up. This function will standardize the text by converting it to lowercase, removing punctuation and numbers, and filtering out common English stop words that don't add much meaning."
   ]
  },
  {
   "cell_type": "code",
   "execution_count": 5,
   "metadata": {},
   "outputs": [
    {
     "name": "stdout",
     "output_type": "stream",
     "text": [
      "Cleaned commit messages created.\n"
     ]
    },
    {
     "data": {
      "application/vnd.microsoft.datawrangler.viewer.v0+json": {
       "columns": [
        {
         "name": "index",
         "rawType": "int64",
         "type": "integer"
        },
        {
         "name": "commitmessage",
         "rawType": "object",
         "type": "string"
        },
        {
         "name": "cleanedMessage",
         "rawType": "object",
         "type": "string"
        }
       ],
       "ref": "56173f5f-b530-4a09-8d01-cf9a0f7120e5",
       "rows": [
        [
         "0",
         "\"Implement responsive UI component with dropdown and modal functionality, enhancing navigation and theme style across the page, with improved CSS and animation effects\"",
         "implement responsive ui component dropdown modal functionality enhancing navigation theme style across page improved css animation effects"
        ],
        [
         "1",
         "\"Refactor UI components: Implement responsive theme for dropdowns and buttons, update CSS layout for modal and navigation widgets, enhance form styling and animation.\"",
         "refactor ui components implement responsive theme dropdowns buttons update css layout modal navigation widgets enhance form styling animation"
        ],
        [
         "2",
         "\"feat: Implement responsive UI layout with modal and dropdown components, incorporating theme-based styling and animation effects for enhanced user experience.\"",
         "feat implement responsive ui layout modal dropdown components incorporating themebased styling animation effects enhanced user experience"
        ],
        [
         "3",
         "\"Refactored UI components for responsive layout and CSS style consistency across page elements, including modal, dropdown, and navigation widgets, to enhance overall theme and user experience.\"",
         "refactored ui components responsive layout css style consistency across page elements including modal dropdown navigation widgets enhance overall theme user experience"
        ],
        [
         "4",
         "\"feat: Implement responsive UI layout for login page with modal and dropdown components, adding CSS styles and animation for a better user experience. Updated API endpoint to handle authentication and session logic, including backend schema and validation.\"",
         "feat implement responsive ui layout login page modal dropdown components adding css styles animation better user experience updated api endpoint handle authentication session logic including backend schema validation"
        ]
       ],
       "shape": {
        "columns": 2,
        "rows": 5
       }
      },
      "text/html": [
       "<div>\n",
       "<style scoped>\n",
       "    .dataframe tbody tr th:only-of-type {\n",
       "        vertical-align: middle;\n",
       "    }\n",
       "\n",
       "    .dataframe tbody tr th {\n",
       "        vertical-align: top;\n",
       "    }\n",
       "\n",
       "    .dataframe thead th {\n",
       "        text-align: right;\n",
       "    }\n",
       "</style>\n",
       "<table border=\"1\" class=\"dataframe\">\n",
       "  <thead>\n",
       "    <tr style=\"text-align: right;\">\n",
       "      <th></th>\n",
       "      <th>commitmessage</th>\n",
       "      <th>cleanedMessage</th>\n",
       "    </tr>\n",
       "  </thead>\n",
       "  <tbody>\n",
       "    <tr>\n",
       "      <th>0</th>\n",
       "      <td>\"Implement responsive UI component with dropdo...</td>\n",
       "      <td>implement responsive ui component dropdown mod...</td>\n",
       "    </tr>\n",
       "    <tr>\n",
       "      <th>1</th>\n",
       "      <td>\"Refactor UI components: Implement responsive ...</td>\n",
       "      <td>refactor ui components implement responsive th...</td>\n",
       "    </tr>\n",
       "    <tr>\n",
       "      <th>2</th>\n",
       "      <td>\"feat: Implement responsive UI layout with mod...</td>\n",
       "      <td>feat implement responsive ui layout modal drop...</td>\n",
       "    </tr>\n",
       "    <tr>\n",
       "      <th>3</th>\n",
       "      <td>\"Refactored UI components for responsive layou...</td>\n",
       "      <td>refactored ui components responsive layout css...</td>\n",
       "    </tr>\n",
       "    <tr>\n",
       "      <th>4</th>\n",
       "      <td>\"feat: Implement responsive UI layout for logi...</td>\n",
       "      <td>feat implement responsive ui layout login page...</td>\n",
       "    </tr>\n",
       "  </tbody>\n",
       "</table>\n",
       "</div>"
      ],
      "text/plain": [
       "                                       commitmessage  \\\n",
       "0  \"Implement responsive UI component with dropdo...   \n",
       "1  \"Refactor UI components: Implement responsive ...   \n",
       "2  \"feat: Implement responsive UI layout with mod...   \n",
       "3  \"Refactored UI components for responsive layou...   \n",
       "4  \"feat: Implement responsive UI layout for logi...   \n",
       "\n",
       "                                      cleanedMessage  \n",
       "0  implement responsive ui component dropdown mod...  \n",
       "1  refactor ui components implement responsive th...  \n",
       "2  feat implement responsive ui layout modal drop...  \n",
       "3  refactored ui components responsive layout css...  \n",
       "4  feat implement responsive ui layout login page...  "
      ]
     },
     "metadata": {},
     "output_type": "display_data"
    }
   ],
   "source": [
    "def cleanCommitMessage(message):\n",
    "    message = message.lower()\n",
    "    message = re.sub(r'[^a-zA-Z\\s]', '', message)\n",
    "    stopWords = set(stopwords.words('english'))\n",
    "    words = message.split()\n",
    "    cleanedWords = [word for word in words if word not in stopWords]\n",
    "    return ' '.join(cleanedWords)\n",
    "\n",
    "commitData['cleanedMessage'] = commitData['commitmessage'].apply(cleanCommitMessage)\n",
    "\n",
    "print(\"Cleaned commit messages created.\")\n",
    "display(commitData[['commitmessage', 'cleanedMessage']].head())"
   ]
  },
  {
   "cell_type": "markdown",
   "metadata": {},
   "source": [
    "### 4. Feature Engineering:\n",
    "\n",
    "Create new features from the existing data. These features are designed to provide the model with more direct signals about the nature of a commit."
   ]
  },
  {
   "cell_type": "markdown",
   "metadata": {},
   "source": [
    "#### 4.1 Adding Features:\n",
    "\n",
    "Add features for the message length, the net change in code lines, and the average lines added per file. These metrics can provide clues about the type and scope of the work done."
   ]
  },
  {
   "cell_type": "code",
   "execution_count": 6,
   "metadata": {},
   "outputs": [
    {
     "name": "stdout",
     "output_type": "stream",
     "text": [
      "Common sense features created:\n"
     ]
    },
    {
     "data": {
      "application/vnd.microsoft.datawrangler.viewer.v0+json": {
       "columns": [
        {
         "name": "index",
         "rawType": "int64",
         "type": "integer"
        },
        {
         "name": "messageLengthWords",
         "rawType": "int64",
         "type": "integer"
        },
        {
         "name": "netCodeChange",
         "rawType": "int64",
         "type": "integer"
        },
        {
         "name": "linesAddedPerFile",
         "rawType": "float64",
         "type": "float"
        }
       ],
       "ref": "663ec1fa-ede6-40a0-80c5-30698db8c6dd",
       "rows": [
        [
         "0",
         "17",
         "212",
         "78.0"
        ],
        [
         "1",
         "18",
         "117",
         "47.75"
        ],
        [
         "2",
         "16",
         "129",
         "68.75"
        ],
        [
         "3",
         "21",
         "81",
         "61.25"
        ],
        [
         "4",
         "28",
         "314",
         "346.0"
        ]
       ],
       "shape": {
        "columns": 3,
        "rows": 5
       }
      },
      "text/html": [
       "<div>\n",
       "<style scoped>\n",
       "    .dataframe tbody tr th:only-of-type {\n",
       "        vertical-align: middle;\n",
       "    }\n",
       "\n",
       "    .dataframe tbody tr th {\n",
       "        vertical-align: top;\n",
       "    }\n",
       "\n",
       "    .dataframe thead th {\n",
       "        text-align: right;\n",
       "    }\n",
       "</style>\n",
       "<table border=\"1\" class=\"dataframe\">\n",
       "  <thead>\n",
       "    <tr style=\"text-align: right;\">\n",
       "      <th></th>\n",
       "      <th>messageLengthWords</th>\n",
       "      <th>netCodeChange</th>\n",
       "      <th>linesAddedPerFile</th>\n",
       "    </tr>\n",
       "  </thead>\n",
       "  <tbody>\n",
       "    <tr>\n",
       "      <th>0</th>\n",
       "      <td>17</td>\n",
       "      <td>212</td>\n",
       "      <td>78.00</td>\n",
       "    </tr>\n",
       "    <tr>\n",
       "      <th>1</th>\n",
       "      <td>18</td>\n",
       "      <td>117</td>\n",
       "      <td>47.75</td>\n",
       "    </tr>\n",
       "    <tr>\n",
       "      <th>2</th>\n",
       "      <td>16</td>\n",
       "      <td>129</td>\n",
       "      <td>68.75</td>\n",
       "    </tr>\n",
       "    <tr>\n",
       "      <th>3</th>\n",
       "      <td>21</td>\n",
       "      <td>81</td>\n",
       "      <td>61.25</td>\n",
       "    </tr>\n",
       "    <tr>\n",
       "      <th>4</th>\n",
       "      <td>28</td>\n",
       "      <td>314</td>\n",
       "      <td>346.00</td>\n",
       "    </tr>\n",
       "  </tbody>\n",
       "</table>\n",
       "</div>"
      ],
      "text/plain": [
       "   messageLengthWords  netCodeChange  linesAddedPerFile\n",
       "0                  17            212              78.00\n",
       "1                  18            117              47.75\n",
       "2                  16            129              68.75\n",
       "3                  21             81              61.25\n",
       "4                  28            314             346.00"
      ]
     },
     "metadata": {},
     "output_type": "display_data"
    }
   ],
   "source": [
    "def createFeatures(df):\n",
    "    newDf = df.copy()\n",
    "    newDf['messageLengthWords'] = newDf['cleanedMessage'].str.split().str.len()\n",
    "    newDf['netCodeChange'] = newDf['linesadded'] - newDf['linesdeleted']\n",
    "    newDf['linesAddedPerFile'] = (newDf['linesadded'] / newDf['numfileschanged']).fillna(0)\n",
    "    newDf['linesAddedPerFile'] = newDf['linesAddedPerFile'].replace([np.inf, -np.inf], 0)\n",
    "    return newDf\n",
    "\n",
    "commitData = createFeatures(commitData)\n",
    "\n",
    "print(\"Common sense features created:\")\n",
    "display(commitData[['messageLengthWords', 'netCodeChange', 'linesAddedPerFile']].head())"
   ]
  },
  {
   "cell_type": "markdown",
   "metadata": {},
   "source": [
    "#### 4.2 Time Based Features:\n",
    "\n",
    "The `timeofcommit` column tells me when a commit was made. Extracting the day of the week and the hour can reveal patterns in work schedules that might differ between roles."
   ]
  },
  {
   "cell_type": "code",
   "execution_count": 7,
   "metadata": {},
   "outputs": [
    {
     "name": "stdout",
     "output_type": "stream",
     "text": [
      "Time based features created:\n"
     ]
    },
    {
     "data": {
      "application/vnd.microsoft.datawrangler.viewer.v0+json": {
       "columns": [
        {
         "name": "index",
         "rawType": "int64",
         "type": "integer"
        },
        {
         "name": "timeofcommit",
         "rawType": "object",
         "type": "string"
        },
        {
         "name": "dayOfWeek",
         "rawType": "object",
         "type": "string"
        },
        {
         "name": "hourOfDay",
         "rawType": "int64",
         "type": "integer"
        }
       ],
       "ref": "f1a3961e-d8e7-41b2-81b7-6a3a886892ef",
       "rows": [
        [
         "0",
         "Friday 17:00",
         "Friday",
         "17"
        ],
        [
         "1",
         "Friday 20:00",
         "Friday",
         "20"
        ],
        [
         "2",
         "Thursday 21:00",
         "Thursday",
         "21"
        ],
        [
         "3",
         "Thursday 18:00",
         "Thursday",
         "18"
        ],
        [
         "4",
         "Sunday 20:00",
         "Sunday",
         "20"
        ]
       ],
       "shape": {
        "columns": 3,
        "rows": 5
       }
      },
      "text/html": [
       "<div>\n",
       "<style scoped>\n",
       "    .dataframe tbody tr th:only-of-type {\n",
       "        vertical-align: middle;\n",
       "    }\n",
       "\n",
       "    .dataframe tbody tr th {\n",
       "        vertical-align: top;\n",
       "    }\n",
       "\n",
       "    .dataframe thead th {\n",
       "        text-align: right;\n",
       "    }\n",
       "</style>\n",
       "<table border=\"1\" class=\"dataframe\">\n",
       "  <thead>\n",
       "    <tr style=\"text-align: right;\">\n",
       "      <th></th>\n",
       "      <th>timeofcommit</th>\n",
       "      <th>dayOfWeek</th>\n",
       "      <th>hourOfDay</th>\n",
       "    </tr>\n",
       "  </thead>\n",
       "  <tbody>\n",
       "    <tr>\n",
       "      <th>0</th>\n",
       "      <td>Friday 17:00</td>\n",
       "      <td>Friday</td>\n",
       "      <td>17</td>\n",
       "    </tr>\n",
       "    <tr>\n",
       "      <th>1</th>\n",
       "      <td>Friday 20:00</td>\n",
       "      <td>Friday</td>\n",
       "      <td>20</td>\n",
       "    </tr>\n",
       "    <tr>\n",
       "      <th>2</th>\n",
       "      <td>Thursday 21:00</td>\n",
       "      <td>Thursday</td>\n",
       "      <td>21</td>\n",
       "    </tr>\n",
       "    <tr>\n",
       "      <th>3</th>\n",
       "      <td>Thursday 18:00</td>\n",
       "      <td>Thursday</td>\n",
       "      <td>18</td>\n",
       "    </tr>\n",
       "    <tr>\n",
       "      <th>4</th>\n",
       "      <td>Sunday 20:00</td>\n",
       "      <td>Sunday</td>\n",
       "      <td>20</td>\n",
       "    </tr>\n",
       "  </tbody>\n",
       "</table>\n",
       "</div>"
      ],
      "text/plain": [
       "     timeofcommit dayOfWeek  hourOfDay\n",
       "0    Friday 17:00    Friday         17\n",
       "1    Friday 20:00    Friday         20\n",
       "2  Thursday 21:00  Thursday         21\n",
       "3  Thursday 18:00  Thursday         18\n",
       "4    Sunday 20:00    Sunday         20"
      ]
     },
     "metadata": {},
     "output_type": "display_data"
    }
   ],
   "source": [
    "def extractTimeFeatures(df):\n",
    "    newDf = df.copy()\n",
    "    timeParts = newDf['timeofcommit'].str.split(' ', expand=True)\n",
    "    newDf['dayOfWeek'] = timeParts[0]\n",
    "    newDf['hourOfDay'] = timeParts[1].str.split(':').str[0].astype(int)\n",
    "    return newDf\n",
    "\n",
    "commitData = extractTimeFeatures(commitData)\n",
    "\n",
    "print(\"Time based features created:\")\n",
    "display(commitData[['timeofcommit', 'dayOfWeek', 'hourOfDay']].head())"
   ]
  },
  {
   "cell_type": "markdown",
   "metadata": {},
   "source": [
    "#### 4.3 File Extension Features:\n",
    "\n",
    "The `fileextensions` column is stored as a string that looks like a list. Parse this string to get a clean list of file extensions for each commit. This is a very strong indicator of a developer's role (like `.css` for frontend, `.sql` for backend)."
   ]
  },
  {
   "cell_type": "code",
   "execution_count": 8,
   "metadata": {},
   "outputs": [
    {
     "name": "stdout",
     "output_type": "stream",
     "text": [
      "File extensions cleaned up:\n"
     ]
    },
    {
     "data": {
      "application/vnd.microsoft.datawrangler.viewer.v0+json": {
       "columns": [
        {
         "name": "index",
         "rawType": "int64",
         "type": "integer"
        },
        {
         "name": "fileextensions",
         "rawType": "object",
         "type": "string"
        },
        {
         "name": "processedFileExtensions",
         "rawType": "object",
         "type": "unknown"
        }
       ],
       "ref": "0918a466-6846-43b7-95a1-13728c812217",
       "rows": [
        [
         "0",
         "[np.str_('js_ts')]",
         "['js_ts']"
        ],
        [
         "1",
         "[np.str_('css')]",
         "['css']"
        ],
        [
         "2",
         "[np.str_('html')]",
         "['html']"
        ],
        [
         "3",
         "[np.str_('js_ts')]",
         "['js_ts']"
        ],
        [
         "4",
         "[np.str_('js_ts'), np.str_('html')]",
         "['js_ts', 'html']"
        ]
       ],
       "shape": {
        "columns": 2,
        "rows": 5
       }
      },
      "text/html": [
       "<div>\n",
       "<style scoped>\n",
       "    .dataframe tbody tr th:only-of-type {\n",
       "        vertical-align: middle;\n",
       "    }\n",
       "\n",
       "    .dataframe tbody tr th {\n",
       "        vertical-align: top;\n",
       "    }\n",
       "\n",
       "    .dataframe thead th {\n",
       "        text-align: right;\n",
       "    }\n",
       "</style>\n",
       "<table border=\"1\" class=\"dataframe\">\n",
       "  <thead>\n",
       "    <tr style=\"text-align: right;\">\n",
       "      <th></th>\n",
       "      <th>fileextensions</th>\n",
       "      <th>processedFileExtensions</th>\n",
       "    </tr>\n",
       "  </thead>\n",
       "  <tbody>\n",
       "    <tr>\n",
       "      <th>0</th>\n",
       "      <td>[np.str_('js_ts')]</td>\n",
       "      <td>[js_ts]</td>\n",
       "    </tr>\n",
       "    <tr>\n",
       "      <th>1</th>\n",
       "      <td>[np.str_('css')]</td>\n",
       "      <td>[css]</td>\n",
       "    </tr>\n",
       "    <tr>\n",
       "      <th>2</th>\n",
       "      <td>[np.str_('html')]</td>\n",
       "      <td>[html]</td>\n",
       "    </tr>\n",
       "    <tr>\n",
       "      <th>3</th>\n",
       "      <td>[np.str_('js_ts')]</td>\n",
       "      <td>[js_ts]</td>\n",
       "    </tr>\n",
       "    <tr>\n",
       "      <th>4</th>\n",
       "      <td>[np.str_('js_ts'), np.str_('html')]</td>\n",
       "      <td>[js_ts, html]</td>\n",
       "    </tr>\n",
       "  </tbody>\n",
       "</table>\n",
       "</div>"
      ],
      "text/plain": [
       "                        fileextensions processedFileExtensions\n",
       "0                   [np.str_('js_ts')]                 [js_ts]\n",
       "1                     [np.str_('css')]                   [css]\n",
       "2                    [np.str_('html')]                  [html]\n",
       "3                   [np.str_('js_ts')]                 [js_ts]\n",
       "4  [np.str_('js_ts'), np.str_('html')]           [js_ts, html]"
      ]
     },
     "metadata": {},
     "output_type": "display_data"
    }
   ],
   "source": [
    "def processFileExtensions(extensionsString):\n",
    "    try:\n",
    "        extensions = re.findall(r\"'([^']*)'\", extensionsString)\n",
    "        return extensions\n",
    "    except (TypeError, AttributeError):\n",
    "        return []\n",
    "\n",
    "commitData['processedFileExtensions'] = commitData['fileextensions'].apply(processFileExtensions)\n",
    "\n",
    "print(\"File extensions cleaned up:\")\n",
    "display(commitData[['fileextensions', 'processedFileExtensions']].head())"
   ]
  },
  {
   "cell_type": "markdown",
   "metadata": {},
   "source": [
    "### 5. Final Review and Save:\n",
    "\n",
    "Take a look at the final DataFrame. Select only the columns I need for modeling and drop the original, unprocessed ones. Then, save the result to a new file."
   ]
  },
  {
   "cell_type": "code",
   "execution_count": 9,
   "metadata": {},
   "outputs": [
    {
     "name": "stdout",
     "output_type": "stream",
     "text": [
      "Final preprocessed DataFrame head:\n"
     ]
    },
    {
     "data": {
      "application/vnd.microsoft.datawrangler.viewer.v0+json": {
       "columns": [
        {
         "name": "index",
         "rawType": "int64",
         "type": "integer"
        },
        {
         "name": "role",
         "rawType": "object",
         "type": "string"
        },
        {
         "name": "committype",
         "rawType": "object",
         "type": "string"
        },
        {
         "name": "numfileschanged",
         "rawType": "int64",
         "type": "integer"
        },
        {
         "name": "linesadded",
         "rawType": "int64",
         "type": "integer"
        },
        {
         "name": "linesdeleted",
         "rawType": "int64",
         "type": "integer"
        },
        {
         "name": "numcommentsadded",
         "rawType": "int64",
         "type": "integer"
        },
        {
         "name": "cleanedMessage",
         "rawType": "object",
         "type": "string"
        },
        {
         "name": "messageLengthWords",
         "rawType": "int64",
         "type": "integer"
        },
        {
         "name": "netCodeChange",
         "rawType": "int64",
         "type": "integer"
        },
        {
         "name": "linesAddedPerFile",
         "rawType": "float64",
         "type": "float"
        },
        {
         "name": "dayOfWeek",
         "rawType": "object",
         "type": "string"
        },
        {
         "name": "hourOfDay",
         "rawType": "int64",
         "type": "integer"
        },
        {
         "name": "processedFileExtensions",
         "rawType": "object",
         "type": "unknown"
        }
       ],
       "ref": "584fe79c-257a-470e-bc51-67dd9fc2f007",
       "rows": [
        [
         "0",
         "frontend",
         "feature",
         "4",
         "312",
         "100",
         "2",
         "implement responsive ui component dropdown modal functionality enhancing navigation theme style across page improved css animation effects",
         "17",
         "212",
         "78.0",
         "Friday",
         "17",
         "['js_ts']"
        ],
        [
         "1",
         "frontend",
         "feature",
         "4",
         "191",
         "74",
         "2",
         "refactor ui components implement responsive theme dropdowns buttons update css layout modal navigation widgets enhance form styling animation",
         "18",
         "117",
         "47.75",
         "Friday",
         "20",
         "['css']"
        ],
        [
         "2",
         "fullstack",
         "feature",
         "4",
         "275",
         "146",
         "4",
         "feat implement responsive ui layout modal dropdown components incorporating themebased styling animation effects enhanced user experience",
         "16",
         "129",
         "68.75",
         "Thursday",
         "21",
         "['html']"
        ],
        [
         "3",
         "frontend",
         "refactor",
         "4",
         "245",
         "164",
         "2",
         "refactored ui components responsive layout css style consistency across page elements including modal dropdown navigation widgets enhance overall theme user experience",
         "21",
         "81",
         "61.25",
         "Thursday",
         "18",
         "['js_ts']"
        ],
        [
         "4",
         "fullstack",
         "feature",
         "2",
         "692",
         "378",
         "5",
         "feat implement responsive ui layout login page modal dropdown components adding css styles animation better user experience updated api endpoint handle authentication session logic including backend schema validation",
         "28",
         "314",
         "346.0",
         "Sunday",
         "20",
         "['js_ts', 'html']"
        ]
       ],
       "shape": {
        "columns": 13,
        "rows": 5
       }
      },
      "text/html": [
       "<div>\n",
       "<style scoped>\n",
       "    .dataframe tbody tr th:only-of-type {\n",
       "        vertical-align: middle;\n",
       "    }\n",
       "\n",
       "    .dataframe tbody tr th {\n",
       "        vertical-align: top;\n",
       "    }\n",
       "\n",
       "    .dataframe thead th {\n",
       "        text-align: right;\n",
       "    }\n",
       "</style>\n",
       "<table border=\"1\" class=\"dataframe\">\n",
       "  <thead>\n",
       "    <tr style=\"text-align: right;\">\n",
       "      <th></th>\n",
       "      <th>role</th>\n",
       "      <th>committype</th>\n",
       "      <th>numfileschanged</th>\n",
       "      <th>linesadded</th>\n",
       "      <th>linesdeleted</th>\n",
       "      <th>numcommentsadded</th>\n",
       "      <th>cleanedMessage</th>\n",
       "      <th>messageLengthWords</th>\n",
       "      <th>netCodeChange</th>\n",
       "      <th>linesAddedPerFile</th>\n",
       "      <th>dayOfWeek</th>\n",
       "      <th>hourOfDay</th>\n",
       "      <th>processedFileExtensions</th>\n",
       "    </tr>\n",
       "  </thead>\n",
       "  <tbody>\n",
       "    <tr>\n",
       "      <th>0</th>\n",
       "      <td>frontend</td>\n",
       "      <td>feature</td>\n",
       "      <td>4</td>\n",
       "      <td>312</td>\n",
       "      <td>100</td>\n",
       "      <td>2</td>\n",
       "      <td>implement responsive ui component dropdown mod...</td>\n",
       "      <td>17</td>\n",
       "      <td>212</td>\n",
       "      <td>78.00</td>\n",
       "      <td>Friday</td>\n",
       "      <td>17</td>\n",
       "      <td>[js_ts]</td>\n",
       "    </tr>\n",
       "    <tr>\n",
       "      <th>1</th>\n",
       "      <td>frontend</td>\n",
       "      <td>feature</td>\n",
       "      <td>4</td>\n",
       "      <td>191</td>\n",
       "      <td>74</td>\n",
       "      <td>2</td>\n",
       "      <td>refactor ui components implement responsive th...</td>\n",
       "      <td>18</td>\n",
       "      <td>117</td>\n",
       "      <td>47.75</td>\n",
       "      <td>Friday</td>\n",
       "      <td>20</td>\n",
       "      <td>[css]</td>\n",
       "    </tr>\n",
       "    <tr>\n",
       "      <th>2</th>\n",
       "      <td>fullstack</td>\n",
       "      <td>feature</td>\n",
       "      <td>4</td>\n",
       "      <td>275</td>\n",
       "      <td>146</td>\n",
       "      <td>4</td>\n",
       "      <td>feat implement responsive ui layout modal drop...</td>\n",
       "      <td>16</td>\n",
       "      <td>129</td>\n",
       "      <td>68.75</td>\n",
       "      <td>Thursday</td>\n",
       "      <td>21</td>\n",
       "      <td>[html]</td>\n",
       "    </tr>\n",
       "    <tr>\n",
       "      <th>3</th>\n",
       "      <td>frontend</td>\n",
       "      <td>refactor</td>\n",
       "      <td>4</td>\n",
       "      <td>245</td>\n",
       "      <td>164</td>\n",
       "      <td>2</td>\n",
       "      <td>refactored ui components responsive layout css...</td>\n",
       "      <td>21</td>\n",
       "      <td>81</td>\n",
       "      <td>61.25</td>\n",
       "      <td>Thursday</td>\n",
       "      <td>18</td>\n",
       "      <td>[js_ts]</td>\n",
       "    </tr>\n",
       "    <tr>\n",
       "      <th>4</th>\n",
       "      <td>fullstack</td>\n",
       "      <td>feature</td>\n",
       "      <td>2</td>\n",
       "      <td>692</td>\n",
       "      <td>378</td>\n",
       "      <td>5</td>\n",
       "      <td>feat implement responsive ui layout login page...</td>\n",
       "      <td>28</td>\n",
       "      <td>314</td>\n",
       "      <td>346.00</td>\n",
       "      <td>Sunday</td>\n",
       "      <td>20</td>\n",
       "      <td>[js_ts, html]</td>\n",
       "    </tr>\n",
       "  </tbody>\n",
       "</table>\n",
       "</div>"
      ],
      "text/plain": [
       "        role committype  numfileschanged  linesadded  linesdeleted  \\\n",
       "0   frontend    feature                4         312           100   \n",
       "1   frontend    feature                4         191            74   \n",
       "2  fullstack    feature                4         275           146   \n",
       "3   frontend   refactor                4         245           164   \n",
       "4  fullstack    feature                2         692           378   \n",
       "\n",
       "   numcommentsadded                                     cleanedMessage  \\\n",
       "0                 2  implement responsive ui component dropdown mod...   \n",
       "1                 2  refactor ui components implement responsive th...   \n",
       "2                 4  feat implement responsive ui layout modal drop...   \n",
       "3                 2  refactored ui components responsive layout css...   \n",
       "4                 5  feat implement responsive ui layout login page...   \n",
       "\n",
       "   messageLengthWords  netCodeChange  linesAddedPerFile dayOfWeek  hourOfDay  \\\n",
       "0                  17            212              78.00    Friday         17   \n",
       "1                  18            117              47.75    Friday         20   \n",
       "2                  16            129              68.75  Thursday         21   \n",
       "3                  21             81              61.25  Thursday         18   \n",
       "4                  28            314             346.00    Sunday         20   \n",
       "\n",
       "  processedFileExtensions  \n",
       "0                 [js_ts]  \n",
       "1                   [css]  \n",
       "2                  [html]  \n",
       "3                 [js_ts]  \n",
       "4           [js_ts, html]  "
      ]
     },
     "metadata": {},
     "output_type": "display_data"
    }
   ],
   "source": [
    "finalColumns = [\n",
    "    'role',\n",
    "    'committype',\n",
    "    'numfileschanged',\n",
    "    'linesadded',\n",
    "    'linesdeleted',\n",
    "    'numcommentsadded',\n",
    "    'cleanedMessage',\n",
    "    'messageLengthWords',\n",
    "    'netCodeChange',\n",
    "    'linesAddedPerFile',\n",
    "    'dayOfWeek',\n",
    "    'hourOfDay',\n",
    "    'processedFileExtensions'\n",
    "]\n",
    "\n",
    "processedData = commitData[finalColumns]\n",
    "\n",
    "print(\"Final preprocessed DataFrame head:\")\n",
    "display(processedData.head())"
   ]
  },
  {
   "cell_type": "code",
   "execution_count": 11,
   "metadata": {},
   "outputs": [
    {
     "name": "stdout",
     "output_type": "stream",
     "text": [
      "Preprocessing complete. Data saved to processed_dataset.csv\n"
     ]
    }
   ],
   "source": [
    "outputFilePath = 'processed_dataset.csv'\n",
    "processedData.to_csv(outputFilePath, index=False)\n",
    "\n",
    "print(f\"Preprocessing complete. Data saved to {outputFilePath}\")"
   ]
  }
 ],
 "metadata": {
  "kernelspec": {
   "display_name": "base",
   "language": "python",
   "name": "python3"
  },
  "language_info": {
   "codemirror_mode": {
    "name": "ipython",
    "version": 3
   },
   "file_extension": ".py",
   "mimetype": "text/x-python",
   "name": "python",
   "nbconvert_exporter": "python",
   "pygments_lexer": "ipython3",
   "version": "3.11.11"
  }
 },
 "nbformat": 4,
 "nbformat_minor": 4
}
